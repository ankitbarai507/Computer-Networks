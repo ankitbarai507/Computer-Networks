{
 "cells": [
  {
   "cell_type": "markdown",
   "metadata": {},
   "source": [
    "### Problem Statement:"
   ]
  },
  {
   "cell_type": "markdown",
   "metadata": {},
   "source": [
    "* Consider two machines a sender and a reciever. Implement Go-back-n sliding window Algorithms between these two machines using socket.\n",
    "* Your program should meet the following guidelines:\n",
    "    * Read input data from a file.\n",
    "    * construct the data frame as follows\n",
    "    * | | seauence number | | payload | | checksum | |\n",
    "    * Use internet checksum algorithm to compute and verify checksum\n",
    "    * Although error rate is low but few frames do arrive with error.\n",
    "    * Define SWS and RWS.\n",
    "    * Define RTT.\n",
    "    * Define transmit / Retransmit frame(s) and acknowledgement(s) as defined by Go-back-n algorithm.\n",
    "    * To implement 'timeout' use either system clock or apply logic to simulate it."
   ]
  },
  {
   "cell_type": "markdown",
   "metadata": {},
   "source": [
    "### Expected Output:"
   ]
  },
  {
   "cell_type": "markdown",
   "metadata": {},
   "source": [
    "* Your input and output files should match. \n",
    "* Print the status of SWS and RWS on console such that working of algorithm becomes clear.\n",
    "* Your output should clearly show time out and retransmission of frams(s) in error.\n",
    "* Your output should also show discarded frames."
   ]
  }
 ],
 "metadata": {
  "kernelspec": {
   "display_name": "Python 3",
   "language": "python",
   "name": "python3"
  },
  "language_info": {
   "codemirror_mode": {
    "name": "ipython",
    "version": 3
   },
   "file_extension": ".py",
   "mimetype": "text/x-python",
   "name": "python",
   "nbconvert_exporter": "python",
   "pygments_lexer": "ipython3",
   "version": "3.7.3"
  }
 },
 "nbformat": 4,
 "nbformat_minor": 2
}
