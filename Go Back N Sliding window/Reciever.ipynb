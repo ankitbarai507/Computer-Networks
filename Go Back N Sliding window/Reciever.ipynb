{
 "cells": [
  {
   "cell_type": "code",
   "execution_count": null,
   "metadata": {
    "scrolled": false
   },
   "outputs": [
    {
     "name": "stdout",
     "output_type": "stream",
     "text": [
      "Connected to server\n",
      "Acknowledgement sent: ack0\n",
      "Acknowledgement sent: ack1\n",
      "Acknowledgement sent: ack2\n",
      "Acknowledgement sent: ack3\n",
      "Acknowledgement sent: ack4\n",
      "Acknowledgement sent: ack5\n",
      "Acknowledgement sent: ack6\n",
      "Acknowledgement sent: ack7\n",
      "Acknowledgement sent: ack0\n",
      "Acknowledgement sent: ack1\n",
      "Acknowledgement sent: ack2\n",
      "Acknowledgement sent: ack3\n",
      "Acknowledgement sent: ack4\n",
      "Acknowledgement sent: ack5\n",
      "Acknowledgement sent: ack6\n"
     ]
    }
   ],
   "source": [
    "import socket\n",
    "import time\n",
    "\n",
    "RWS = 1 # use window size 1 for back n protocol\n",
    "entropy_flag = False\n",
    "reciever_window = 0\n",
    "max_seq_numbers = 8\n",
    "\n",
    "def bits2string(frame):\n",
    "    temp = [frame[i:i + 8] for i in range(len(frame))[::8]]\n",
    "    return ''.join([chr(int(i, 2)) for i in temp])\n",
    "\n",
    "def check_checksum(data):\n",
    "    checksum_complemented = data[-16:]\n",
    "    data = data[3:-16]\n",
    "    checksum = '0' * 16\n",
    "    data_packets = [data[i:i+16] for i in range(len(data))[::16]]\n",
    "    for i in data_packets:\n",
    "        i = int(i , 2)\n",
    "        sum_int = int(checksum, 2)\n",
    "        temp = bin(i + sum_int)\n",
    "        while (len(temp) > 18):\n",
    "            temp = bin(int(temp[3:], 2) + 1)\n",
    "        checksum = temp[2:]\n",
    "    return True if bin(int(checksum, 2) + int(checksum_complemented, 2))[-16:] == '1' * 16 else False\n",
    "\n",
    "s = socket.socket(socket.AF_INET, socket.SOCK_STREAM)\n",
    "port = 12347\n",
    "s.connect(('127.0.0.1', port))\n",
    "print('Connected to server')\n",
    "f = open('output.txt','w+')\n",
    "k = 0\n",
    "\n",
    "while True:\n",
    "    try:\n",
    "        frame = s.recv(1024).decode()\n",
    "        seq_no = int(frame[:3], 2)\n",
    "        ack = 'ack' + str(seq_no)\n",
    "        if check_checksum(frame) and reciever_window == seq_no:\n",
    "            time.sleep(0.01)\n",
    "            frame = bits2string(frame[3:-16])\n",
    "            f.write(frame)\n",
    "            s.sendall(ack.encode())\n",
    "            reciever_window += 1\n",
    "            reciever_window %= max_seq_numbers\n",
    "            print('Acknowledgement sent:', ack)\n",
    "    except Exception as e:\n",
    "        s.close()\n",
    "        print(\"\\nClosed connection with the server\")\n",
    "        break\n",
    "f.close()"
   ]
  },
  {
   "cell_type": "code",
   "execution_count": null,
   "metadata": {},
   "outputs": [],
   "source": []
  }
 ],
 "metadata": {
  "kernelspec": {
   "display_name": "Python 3",
   "language": "python",
   "name": "python3"
  },
  "language_info": {
   "codemirror_mode": {
    "name": "ipython",
    "version": 3
   },
   "file_extension": ".py",
   "mimetype": "text/x-python",
   "name": "python",
   "nbconvert_exporter": "python",
   "pygments_lexer": "ipython3",
   "version": "3.7.3"
  }
 },
 "nbformat": 4,
 "nbformat_minor": 2
}
